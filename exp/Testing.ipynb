{
 "cells": [
  {
   "cell_type": "code",
   "execution_count": 1,
   "id": "41bc8ed3-af85-463e-82e0-bf11511ffa20",
   "metadata": {},
   "outputs": [],
   "source": [
    "import os\n",
    "os.environ['TF_CPP_MIN_LOG_LEVEL'] = '3'\n",
    "from tensorflow.keras.models import load_model\n",
    "import pickle\n",
    "import numpy as np\n",
    "import random"
   ]
  },
  {
   "cell_type": "code",
   "execution_count": 2,
   "id": "92e58df2-765f-4458-b488-d7bde63496f0",
   "metadata": {},
   "outputs": [],
   "source": [
    "# Settings\n",
    "window = 40\n",
    "epochs = 10\n",
    "learning_rate = 0.001\n",
    "activation = 'relu'\n",
    "output_activation = 'softmax'\n",
    "loss = 'categorical_crossentropy'\n",
    "batch_size = 32\n",
    "\n",
    "# Model Files\n",
    "token_filename = 'html_tokens.pl'\n",
    "model_name = 'html_model.h5'\n",
    "\n",
    "# Input\n",
    "text_file = '/home/fignewton/Documents/Projects/Python/Investigacion_en_CC/test/ecci.html.corpus'\n",
    "\n",
    "# Output\n",
    "new_data = '/home/fignewton/Documents/Projects/Python/Investigacion_en_CC/test/ecci.new.html.corpus'\n",
    "original_id = 'inputformcontrolformtexteditsearchblockform2'"
   ]
  },
  {
   "cell_type": "code",
   "execution_count": 3,
   "id": "69d85fa5-c5a9-4b50-9085-f3056e17e9b0",
   "metadata": {},
   "outputs": [],
   "source": [
    "model = load_model('html_model.h5')\n",
    "tokenizer = pickle.load(open('html_tokens.pl', 'rb'))\n",
    "\n",
    "def predict(text):\n",
    "    sequence = tokenizer.texts_to_sequences([text])\n",
    "    sequence = np.array(sequence)\n",
    "    preds = np.argmax(model.predict(sequence, verbose=0))\n",
    "    predicted_word = ''\n",
    "    \n",
    "    for key, val in tokenizer.word_index.items():\n",
    "        if val == preds:\n",
    "            predicted_word = key\n",
    "            break\n",
    "    \n",
    "    return predicted_word"
   ]
  },
  {
   "cell_type": "code",
   "execution_count": 15,
   "id": "8b078284-70cc-473e-aab1-79e5e3474d7f",
   "metadata": {},
   "outputs": [
    {
     "name": "stdout",
     "output_type": "stream",
     "text": [
      "Testing...\n",
      "Finished\n",
      "Tested:  1124\n",
      "Wrong:  276\n",
      "Wrong %:  24.555160142348754\n"
     ]
    }
   ],
   "source": [
    "# Read Data\n",
    "data = open(text_file, 'r', encoding='utf-8').read()\n",
    "data = data.lower().replace('\\n', ' ')\n",
    "data = data.split()\n",
    "data = ' '.join(data)\n",
    "data = data.split(' ')\n",
    "\n",
    "sequences = []\n",
    "for i in range(window, len(data) - 1):\n",
    "    words = data[i-window:i+1]\n",
    "    sequences.append(words)\n",
    "\n",
    "\n",
    "dif = 2\n",
    "print('Testing...')\n",
    "random_word = 'randomunknownword'\n",
    "count = 0\n",
    "wrong = 0\n",
    "for s in sequences:\n",
    "    pos = random.sample(range(window), dif)\n",
    "    for p in pos:\n",
    "        s[p] = random_word\n",
    "    #s[pos] = random_word\n",
    "    input = ' '.join(s[:window])\n",
    "    try:\n",
    "        expected = s[-1]\n",
    "        predicted = predict(input)\n",
    "        count += 1\n",
    "        if expected != predicted:\n",
    "            wrong += 1\n",
    "    except:\n",
    "        print('Eoo')\n",
    "print('Finished')\n",
    "\n",
    "print('Tested: ', count)\n",
    "print('Wrong: ', wrong)\n",
    "print('Wrong %: ', 100 * wrong / count)"
   ]
  },
  {
   "cell_type": "code",
   "execution_count": null,
   "id": "63b07fe5-43a6-4110-b034-cf6c757b2437",
   "metadata": {},
   "outputs": [],
   "source": []
  }
 ],
 "metadata": {
  "kernelspec": {
   "display_name": "Python 3 (ipykernel)",
   "language": "python",
   "name": "python3"
  },
  "language_info": {
   "codemirror_mode": {
    "name": "ipython",
    "version": 3
   },
   "file_extension": ".py",
   "mimetype": "text/x-python",
   "name": "python",
   "nbconvert_exporter": "python",
   "pygments_lexer": "ipython3",
   "version": "3.11.3"
  }
 },
 "nbformat": 4,
 "nbformat_minor": 5
}
